{
 "cells": [
  {
   "cell_type": "code",
   "execution_count": 1,
   "metadata": {},
   "outputs": [],
   "source": [
    "import numpy as np\n",
    "import pandas as pd\n",
    "import math\n",
    "from scipy.stats import norm\n",
    "from scipy.optimize import minimize\n",
    "import matplotlib.pyplot as plt"
   ]
  },
  {
   "attachments": {},
   "cell_type": "markdown",
   "metadata": {},
   "source": [
    "## Question 1"
   ]
  },
  {
   "cell_type": "code",
   "execution_count": 161,
   "metadata": {},
   "outputs": [
    {
     "data": {
      "text/plain": [
       "Text(0, 0.5, 'Credit Spread')"
      ]
     },
     "execution_count": 161,
     "metadata": {},
     "output_type": "execute_result"
    },
    {
     "data": {
      "image/png": "[encoded data removed]",
      "text/plain": [
       "<Figure size 432x288 with 1 Axes>"
      ]
     },
     "metadata": {
      "needs_background": "light"
     },
     "output_type": "display_data"
    }
   ],
   "source": [
    "def f_sigmaD(sigmaV, D, E, r, T):\n",
    "    V = E + D\n",
    "    d1 = (math.log(V / D) + (r + 0.5 * sigmaV ** 2) * T) / (sigmaV * math.sqrt(T))\n",
    "    return sigmaV * (1 + (E / D)) *  norm.cdf(-d1)\n",
    " \n",
    "\"\"\" \n",
    "def fonction_objectif(sigmaV, D, E, r, T, sigmaD):\n",
    "    sigmaD_estime = f_sigmaD(sigmaV, D, E, r, T)[0]\n",
    "    return (sigmaD - sigmaD_estime) ** 2\n",
    "\n",
    "def get_sigmaV(D, E, r, T, sigmaD_observed):\n",
    "    result = minimize(lambda sigmaV: fonction_objectif(sigmaV, D, E, r, T, sigmaD_observed), x0=[0.2])\n",
    "    return result.x[0]\n",
    "\"\"\"\n",
    "\n",
    "\n",
    "D = 60# Debt\n",
    "E = 100   # Equity\n",
    "r = 0.00  # Risk-free rate\n",
    "T = 10 # Time to maturity\n",
    "\n",
    "\n",
    "# Calculate Credit spread\n",
    "def f_get_creditSpread(D, E, r, T, sigmaV):\n",
    "    V = D + E\n",
    "    d1 = (math.log(V / D) + (r + 0.5 * sigmaV ** 2) * T) / (sigmaV * math.sqrt(T))\n",
    "    d2 = d1 - (sigmaV * np.sqrt(T))\n",
    "    return -(math.log(norm.cdf(d2) + V / D * np.exp(-r*T) * norm.cdf(-d1)))/ T\n",
    "\n",
    "\n",
    "sigmaD = np.linspace(0.01, 0.25, 49)\n",
    "sigmaV = [get_sigmaV(D, E, r, T, sigmaD_observed) for sigmaD_observed in sigmaD]\n",
    "res = [f_get_creditSpread(D, E, r, T, sigmaV_tmp) for sigmaV_tmp in sigmaV]\n",
    "\n",
    "plt.plot(sigmaD,  res)\n",
    "plt.xlabel(\"sigmaD\")\n",
    "plt.ylabel(\"Credit Spread\")\n",
    "\n"
   ]
  },
  {
   "attachments": {},
   "cell_type": "markdown",
   "metadata": {},
   "source": [
    "#### Cook Version"
   ]
  },
  {
   "cell_type": "code",
   "execution_count": 197,
   "metadata": {},
   "outputs": [],
   "source": [
    "def d1(V, F, r, sigmaV, T):\n",
    "    d1 = (math.log(V / F) + (r + 0.5 * sigmaV ** 2) * T) / (sigmaV * math.sqrt(T))\n",
    "    return d1\n",
    "\n",
    "\n",
    "def d2(d1, sigmaV, T):\n",
    "    return  d1 - (sigmaV * np.sqrt(T))\n",
    "\n",
    "\n",
    "def f_get_creditSpread2(V, F, r, sigmaV, T):\n",
    "    d1_t = d1(V, F, r, sigmaV, T)\n",
    "    d2_t = d2(d1_t, sigmaV, T)\n",
    "    return (-1/T) * math.log(np.exp(-r * T) * norm.cdf(d2_t) + (V/F) * norm.cdf(-d1_t)) - r\n",
    "\n",
    "\n",
    "# On fixe v à 1\n",
    "def put_value(V, F, sigmaV, r, T):\n",
    "    d1_t = d1(V, F, r, sigmaV, T)\n",
    "    d2_t = d2(d1_t, sigmaV, T)\n",
    "    return F * np.exp(-r * T) * norm.cdf(-d2_t) - V * norm.cdf(-d1_t)\n",
    "\n",
    "\n",
    "def f_sigmaD2(V, F, sigmaV, r, T):\n",
    "    P = put_value(V, F, sigmaV, r, T)\n",
    "    d1_t = d1(V, F, r, sigmaV, T)\n",
    "    D = F * np.exp(-r * T) - P\n",
    "    return sigmaV * V * norm.cdf(-d1_t) / D"
   ]
  },
  {
   "cell_type": "code",
   "execution_count": 232,
   "metadata": {},
   "outputs": [
    {
     "data": {
      "image/png": "[encoded data removed]",
      "text/plain": [
       "<Figure size 432x288 with 1 Axes>"
      ]
     },
     "metadata": {
      "needs_background": "light"
     },
     "output_type": "display_data"
    }
   ],
   "source": [
    "V_arr = [1/x for x in np.linspace(0.04, 0.98, 4)]\n",
    "F = 1\n",
    "T = 5\n",
    "r = 0.05\n",
    "sigmaV_array = np.linspace(0.01, 1.5 , 150)\n",
    "for V in V_arr:\n",
    "    plt.plot([f_sigmaD2(V, F, tmp, r, T) for tmp in sigmaV_array], [f_get_creditSpread2(V, F, r, tmp, T) for tmp in sigmaV_array])\n"
   ]
  },
  {
   "cell_type": "code",
   "execution_count": 14,
   "metadata": {},
   "outputs": [
    {
     "data": {
      "text/plain": [
       "0.3157642040209876"
      ]
     },
     "execution_count": 14,
     "metadata": {},
     "output_type": "execute_result"
    }
   ],
   "source": [
    "V = D+E\n",
    "sigmaV[-1] * norm.cdf(-(math.log(V / D) + (r + 0.5 * sigmaV[-1] ** 2) * T) / (sigmaV[-1] * math.sqrt(T)))"
   ]
  },
  {
   "cell_type": "code",
   "execution_count": 41,
   "metadata": {},
   "outputs": [
    {
     "data": {
      "text/plain": [
       "array([0.01 , 0.015, 0.02 , 0.025, 0.03 , 0.035, 0.04 , 0.045, 0.05 ,\n",
       "       0.055, 0.06 , 0.065, 0.07 , 0.075, 0.08 , 0.085, 0.09 , 0.095,\n",
       "       0.1  , 0.105, 0.11 , 0.115, 0.12 , 0.125, 0.13 , 0.135, 0.14 ,\n",
       "       0.145, 0.15 , 0.155, 0.16 , 0.165, 0.17 , 0.175, 0.18 , 0.185,\n",
       "       0.19 , 0.195, 0.2  , 0.205, 0.21 , 0.215, 0.22 , 0.225, 0.23 ,\n",
       "       0.235, 0.24 , 0.245, 0.25 ])"
      ]
     },
     "execution_count": 41,
     "metadata": {},
     "output_type": "execute_result"
    }
   ],
   "source": [
    "sigmaD"
   ]
  }
 ],
 "metadata": {
  "kernelspec": {
   "display_name": "Python 3",
   "language": "python",
   "name": "python3"
  },
  "language_info": {
   "codemirror_mode": {
    "name": "ipython",
    "version": 3
   },
   "file_extension": ".py",
   "mimetype": "text/x-python",
   "name": "python",
   "nbconvert_exporter": "python",
   "pygments_lexer": "ipython3",
   "version": "3.10.5"
  },
  "orig_nbformat": 4
 },
 "nbformat": 4,
 "nbformat_minor": 2
}
