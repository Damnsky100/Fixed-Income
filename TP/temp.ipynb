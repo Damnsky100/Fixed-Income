{
 "cells": [
  {
   "cell_type": "code",
   "execution_count": 1,
   "metadata": {},
   "outputs": [],
   "source": [
    "import numpy as np\n",
    "import pandas as pd\n",
    "import math\n",
    "from scipy.stats import norm\n",
    "from scipy.optimize import minimize\n",
    "import matplotlib.pyplot as plt"
   ]
  },
  {
   "attachments": {},
   "cell_type": "markdown",
   "metadata": {},
   "source": [
    "## Question 1"
   ]
  },
  {
   "cell_type": "code",
   "execution_count": 161,
   "metadata": {},
   "outputs": [
    {
     "data": {
      "text/plain": [
       "Text(0, 0.5, 'Credit Spread')"
      ]
     },
     "execution_count": 161,
     "metadata": {},
     "output_type": "execute_result"
    },
    {
     "data": {
      "image/png": "[encoded data removed]",
      "text/plain": [
       "<Figure size 432x288 with 1 Axes>"
      ]
     },
     "metadata": {
      "needs_background": "light"
     },
     "output_type": "display_data"
    }
   ],
   "source": [
    "def f_sigmaD(sigmaV, D, E, r, T):\n",
    "    V = E + D\n",
    "    d1 = (math.log(V / D) + (r + 0.5 * sigmaV ** 2) * T) / (sigmaV * math.sqrt(T))\n",
    "    return sigmaV * (1 + (E / D)) *  norm.cdf(-d1)\n",
    " \n",
    "\"\"\" \n",
    "def fonction_objectif(sigmaV, D, E, r, T, sigmaD):\n",
    "    sigmaD_estime = f_sigmaD(sigmaV, D, E, r, T)[0]\n",
    "    return (sigmaD - sigmaD_estime) ** 2\n",
    "\n",
    "def get_sigmaV(D, E, r, T, sigmaD_observed):\n",
    "    result = minimize(lambda sigmaV: fonction_objectif(sigmaV, D, E, r, T, sigmaD_observed), x0=[0.2])\n",
    "    return result.x[0]\n",
    "\"\"\"\n",
    "\n",
    "\n",
    "D = 60# Debt\n",
    "E = 100   # Equity\n",
    "r = 0.00  # Risk-free rate\n",
    "T = 10 # Time to maturity\n",
    "\n",
    "\n",
    "# Calculate Credit spread\n",
    "def f_get_creditSpread(D, E, r, T, sigmaV):\n",
    "    V = D + E\n",
    "    d1 = (math.log(V / D) + (r + 0.5 * sigmaV ** 2) * T) / (sigmaV * math.sqrt(T))\n",
    "    d2 = d1 - (sigmaV * np.sqrt(T))\n",
    "    return -(math.log(norm.cdf(d2) + V / D * np.exp(-r*T) * norm.cdf(-d1)))/ T\n",
    "\n",
    "\n",
    "sigmaD = np.linspace(0.01, 0.25, 49)\n",
    "sigmaV = [get_sigmaV(D, E, r, T, sigmaD_observed) for sigmaD_observed in sigmaD]\n",
    "res = [f_get_creditSpread(D, E, r, T, sigmaV_tmp) for sigmaV_tmp in sigmaV]\n",
    "\n",
    "plt.plot(sigmaD,  res)\n",
    "plt.xlabel(\"sigmaD\")\n",
    "plt.ylabel(\"Credit Spread\")\n",
    "\n"
   ]
  },
  {
   "attachments": {},
   "cell_type": "markdown",
   "metadata": {},
   "source": [
    "#### Gunar Version"
   ]
  },
  {
   "cell_type": "code",
   "execution_count": 197,
   "metadata": {},
   "outputs": [],
   "source": [
    "def d1(V, F, r, sigmaV, T):\n",
    "    d1 = (math.log(V / F) + (r + 0.5 * sigmaV ** 2) * T) / (sigmaV * math.sqrt(T))\n",
    "    return d1\n",
    "\n",
    "\n",
    "def d2(d1, sigmaV, T):\n",
    "    return  d1 - (sigmaV * np.sqrt(T))\n",
    "\n",
    "\n",
    "def f_get_creditSpread2(V, F, r, sigmaV, T):\n",
    "    d1_t = d1(V, F, r, sigmaV, T)\n",
    "    d2_t = d2(d1_t, sigmaV, T)\n",
    "    return (-1/T) * math.log(np.exp(-r * T) * norm.cdf(d2_t) + (V/F) * norm.cdf(-d1_t)) - r\n",
    "\n",
    "\n",
    "# On fixe v à 1\n",
    "def put_value(V, F, sigmaV, r, T):\n",
    "    d1_t = d1(V, F, r, sigmaV, T)\n",
    "    d2_t = d2(d1_t, sigmaV, T)\n",
    "    return F * np.exp(-r * T) * norm.cdf(-d2_t) - V * norm.cdf(-d1_t)\n",
    "\n",
    "\n",
    "def f_sigmaD2(V, F, sigmaV, r, T):\n",
    "    P = put_value(V, F, sigmaV, r, T)\n",
    "    d1_t = d1(V, F, r, sigmaV, T)\n",
    "    D = F * np.exp(-r * T) - P\n",
    "    return sigmaV * V * norm.cdf(-d1_t) / D"
   ]
  },
  {
   "cell_type": "code",
   "execution_count": 231,
   "metadata": {},
   "outputs": [
    {
     "data": {
      "image/png": "[encoded data removed]",
      "text/plain": [
       "<Figure size 432x288 with 1 Axes>"
      ]
     },
     "metadata": {
      "needs_background": "light"
     },
     "output_type": "display_data"
    }
   ],
   "source": [
    "V_arr = [1/x for x in np.linspace(0.04, 0.98, 3)]\n",
    "F = 1\n",
    "T = 5\n",
    "r = 0.05\n",
    "sigmaV_array = np.linspace(0.01, 1.5 , 150)\n",
    "for V in V_arr:\n",
    "    plt.plot([f_sigmaD2(V, F, tmp, r, T) for tmp in sigmaV_array], [f_get_creditSpread2(V, F, r, tmp, T) for tmp in sigmaV_array])\n"
   ]
  },
  {
   "cell_type": "code",
   "execution_count": 14,
   "metadata": {},
   "outputs": [
    {
     "data": {
      "text/plain": [
       "0.3157642040209876"
      ]
     },
     "execution_count": 14,
     "metadata": {},
     "output_type": "execute_result"
    }
   ],
   "source": [
    "V = D+E\n",
    "sigmaV[-1] * norm.cdf(-(math.log(V / D) + (r + 0.5 * sigmaV[-1] ** 2) * T) / (sigmaV[-1] * math.sqrt(T)))"
   ]
  },
  {
   "cell_type": "code",
   "execution_count": 41,
   "metadata": {},
   "outputs": [
    {
     "data": {
      "text/plain": [
       "array([0.01 , 0.015, 0.02 , 0.025, 0.03 , 0.035, 0.04 , 0.045, 0.05 ,\n",
       "       0.055, 0.06 , 0.065, 0.07 , 0.075, 0.08 , 0.085, 0.09 , 0.095,\n",
       "       0.1  , 0.105, 0.11 , 0.115, 0.12 , 0.125, 0.13 , 0.135, 0.14 ,\n",
       "       0.145, 0.15 , 0.155, 0.16 , 0.165, 0.17 , 0.175, 0.18 , 0.185,\n",
       "       0.19 , 0.195, 0.2  , 0.205, 0.21 , 0.215, 0.22 , 0.225, 0.23 ,\n",
       "       0.235, 0.24 , 0.245, 0.25 ])"
      ]
     },
     "execution_count": 41,
     "metadata": {},
     "output_type": "execute_result"
    }
   ],
   "source": [
    "sigmaD"
   ]
  },
  {
   "cell_type": "code",
   "execution_count": null,
   "metadata": {},
   "outputs": [],
   "source": []
  },
  {
   "cell_type": "code",
   "execution_count": 42,
   "metadata": {},
   "outputs": [
    {
     "data": {
      "text/plain": [
       "[0.2638820485475006,\n",
       " 0.29129460114578043,\n",
       " 0.3158795652692498,\n",
       " 0.33924759452241965,\n",
       " 0.3622393393618431,\n",
       " 0.38546463981320966,\n",
       " 0.40940011337451127,\n",
       " 1.0954336125940418,\n",
       " 1.0424786758604176,\n",
       " 0.9877066757509044,\n",
       " 0.9297886213160953,\n",
       " 0.8635465904291357,\n",
       " 0.7054512182023718,\n",
       " 0.7079598855327784,\n",
       " 0.7081271051516232,\n",
       " 0.7081934087381213,\n",
       " 0.7081923219967814,\n",
       " 0.7080611620815012,\n",
       " 0.708229028931755,\n",
       " 0.7082593550629965,\n",
       " 0.7082122480862535,\n",
       " 0.7081524624175038,\n",
       " 0.7081804648011957,\n",
       " 0.7081953080064919,\n",
       " 0.7082042216561215,\n",
       " 0.7082079977167156,\n",
       " 0.7082091330516159,\n",
       " 0.7082643748780311,\n",
       " 0.7082241145049133,\n",
       " 0.708255456093409,\n",
       " 0.7082156180593757,\n",
       " 0.7082095180378946,\n",
       " 0.7082516390360769,\n",
       " 0.7081998337292505,\n",
       " 0.7081738972729059,\n",
       " 0.708209568542197,\n",
       " 0.7082097713853187,\n",
       " 0.7082363919545921,\n",
       " 0.7082646532970713,\n",
       " 0.7082100391242636,\n",
       " 0.7082108384709815,\n",
       " 0.7082124586371291,\n",
       " 0.7082154817759158,\n",
       " 0.7082208087232872,\n",
       " 0.7082297144307187,\n",
       " 0.7082140931814127,\n",
       " 0.7082157015177949,\n",
       " 0.7082175500634488,\n",
       " 0.7082082404074411]"
      ]
     },
     "execution_count": 42,
     "metadata": {},
     "output_type": "execute_result"
    }
   ],
   "source": [
    "sigmaV"
   ]
  },
  {
   "cell_type": "code",
   "execution_count": 40,
   "metadata": {},
   "outputs": [
    {
     "data": {
      "text/plain": [
       "[<matplotlib.lines.Line2D at 0x12aa561d0>]"
      ]
     },
     "execution_count": 40,
     "metadata": {},
     "output_type": "execute_result"
    },
    {
     "data": {
      "image/png": "[encoded data removed]",
      "text/plain": [
       "<Figure size 432x288 with 1 Axes>"
      ]
     },
     "metadata": {
      "needs_background": "light"
     },
     "output_type": "display_data"
    }
   ],
   "source": [
    "plt.plot(sigmaV, sigmaD)"
   ]
  },
  {
   "attachments": {},
   "cell_type": "markdown",
   "metadata": {},
   "source": [
    "## Archives"
   ]
  },
  {
   "cell_type": "code",
   "execution_count": 39,
   "metadata": {},
   "outputs": [
    {
     "data": {
      "text/plain": [
       "(104.75614712250356, 0.19091958371294118, 3)"
      ]
     },
     "execution_count": 39,
     "metadata": {},
     "output_type": "execute_result"
    }
   ],
   "source": [
    "from scipy.stats import norm\n",
    "import numpy as np\n",
    "\n",
    "# Define the parameters\n",
    "S = 100       # Example value for the underlying asset\n",
    "D = 5         # Debt\n",
    "T = 1         # Time until maturity in years\n",
    "r = 0.05      # Risk-free rate\n",
    "sigma_S = 0.2 # Initial volatility of the underlying asset\n",
    "epsilon = 1e-5 # Tolerance threshold\n",
    "n_max = 10000  # Maximum number of iterations to prevent infinite loops\n",
    "\n",
    "# Present value function of a bond\n",
    "def B(t, T, r):\n",
    "    return np.exp(-r * (T - t))\n",
    "\n",
    "# Initial values\n",
    "V = S + D  # V_0, assuming S and D are known\n",
    "sigma_V = sigma_S  # sigma_V_0, assuming sigma_S is known\n",
    "Delta = float('inf')\n",
    "n = 0\n",
    "\n",
    "# Helper functions to calculate d1 and d2\n",
    "def calculate_d1(V, sigma_V, K, T, r):\n",
    "    return (np.log(V / K) + (r + 0.5 * sigma_V**2) * T) / (sigma_V * np.sqrt(T))\n",
    "\n",
    "def calculate_d2(d1, sigma_V, T):\n",
    "    return d1 - sigma_V * np.sqrt(T)\n",
    "\n",
    "# Iterative loop to solve for V and sigma_V\n",
    "while Delta >= epsilon and n < n_max:\n",
    "    d1 = calculate_d1(V, sigma_V, D, T, r)\n",
    "    d2 = calculate_d2(d1, sigma_V, T)\n",
    "    \n",
    "    # Update V and sigma_V using the functions defined\n",
    "    V_next = (D * B(0, T, r) * norm.cdf(d2) + S ) / norm.cdf(d1)\n",
    "    sigma_V_next = (1 / norm.cdf(d1)) * (S / V) * sigma_S\n",
    "    \n",
    "    # Calculate the change for convergence check\n",
    "    Delta_V = np.abs(V_next - V)\n",
    "    Delta_sigma_V = np.abs(sigma_V_next - sigma_V)\n",
    "    Delta = max(Delta_V, Delta_sigma_V)\n",
    "    \n",
    "    # Update the variables for the next iteration\n",
    "    V = V_next\n",
    "    sigma_V = sigma_V_next\n",
    "    n += 1\n",
    "\n",
    "V, sigma_V, n # Show the final values and the number of iterations\n"
   ]
  },
  {
   "cell_type": "code",
   "execution_count": null,
   "metadata": {},
   "outputs": [],
   "source": [
    "from sympy import symbols, exp, diff, Function, sqrt\n",
    "\n",
    "# Définir les symboles\n",
    "t, r, u_D, sigma_D, u_V, sigma_V, Constant = symbols('t r u_D sigma_D u_V sigma_V Constant')\n",
    "V = symbols('V', cls=Function)(t)  # V dépend de t\n",
    "D_t = Constant * exp(-r*t) - Function('F')(V, t)  # D_t dépend de V et t\n",
    "\n",
    "# Calculer les dérivées partielles nécessaires pour appliquer le lemme d'Ito\n",
    "partial_t_D = diff(D_t, t)\n",
    "partial_V_D = diff(D_t, V)\n",
    "partial_VV_D = diff(partial_V_D, V)\n",
    "\n",
    "# Appliquer le lemme d'Ito à D_t\n",
    "dD_t = (partial_t_D + u_V * V * partial_V_D + (1/2) * sigma_V**2 * V**2 * partial_VV_D) * symbols('dt') + sigma_V * V * partial_V_D * symbols('dw')\n",
    "dD_t"
   ]
  }
 ],
 "metadata": {
  "kernelspec": {
   "display_name": "Python 3",
   "language": "python",
   "name": "python3"
  },
  "language_info": {
   "codemirror_mode": {
    "name": "ipython",
    "version": 3
   },
   "file_extension": ".py",
   "mimetype": "text/x-python",
   "name": "python",
   "nbconvert_exporter": "python",
   "pygments_lexer": "ipython3",
   "version": "3.10.5"
  },
  "orig_nbformat": 4
 },
 "nbformat": 4,
 "nbformat_minor": 2
}
